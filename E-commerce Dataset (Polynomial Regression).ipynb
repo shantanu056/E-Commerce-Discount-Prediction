{
 "cells": [
  {
   "cell_type": "code",
   "execution_count": 1,
   "id": "417257da-dd1d-4897-81af-0256388b0a43",
   "metadata": {},
   "outputs": [],
   "source": [
    "import numpy as np\n",
    "import pandas as pd\n",
    "import matplotlib.pyplot as plt\n",
    "import seaborn as sns\n",
    "sns.set(style=\"whitegrid\")\n",
    "\n",
    "import warnings                    \n",
    "warnings.filterwarnings('ignore')"
   ]
  },
  {
   "cell_type": "code",
   "execution_count": 2,
   "id": "db6027cd-360d-4982-9bc8-386ecf87941a",
   "metadata": {},
   "outputs": [
    {
     "data": {
      "text/html": [
       "<div>\n",
       "<style scoped>\n",
       "    .dataframe tbody tr th:only-of-type {\n",
       "        vertical-align: middle;\n",
       "    }\n",
       "\n",
       "    .dataframe tbody tr th {\n",
       "        vertical-align: top;\n",
       "    }\n",
       "\n",
       "    .dataframe thead th {\n",
       "        text-align: right;\n",
       "    }\n",
       "</style>\n",
       "<table border=\"1\" class=\"dataframe\">\n",
       "  <thead>\n",
       "    <tr style=\"text-align: right;\">\n",
       "      <th></th>\n",
       "      <th>Category</th>\n",
       "      <th>Price</th>\n",
       "      <th>Discount</th>\n",
       "      <th>Final_Price</th>\n",
       "      <th>Payment_Method</th>\n",
       "    </tr>\n",
       "  </thead>\n",
       "  <tbody>\n",
       "    <tr>\n",
       "      <th>0</th>\n",
       "      <td>5</td>\n",
       "      <td>36.53</td>\n",
       "      <td>15</td>\n",
       "      <td>31.05</td>\n",
       "      <td>3</td>\n",
       "    </tr>\n",
       "    <tr>\n",
       "      <th>1</th>\n",
       "      <td>2</td>\n",
       "      <td>232.79</td>\n",
       "      <td>20</td>\n",
       "      <td>186.23</td>\n",
       "      <td>3</td>\n",
       "    </tr>\n",
       "    <tr>\n",
       "      <th>2</th>\n",
       "      <td>5</td>\n",
       "      <td>317.02</td>\n",
       "      <td>25</td>\n",
       "      <td>237.76</td>\n",
       "      <td>1</td>\n",
       "    </tr>\n",
       "    <tr>\n",
       "      <th>3</th>\n",
       "      <td>6</td>\n",
       "      <td>173.19</td>\n",
       "      <td>25</td>\n",
       "      <td>129.89</td>\n",
       "      <td>4</td>\n",
       "    </tr>\n",
       "    <tr>\n",
       "      <th>4</th>\n",
       "      <td>0</td>\n",
       "      <td>244.80</td>\n",
       "      <td>20</td>\n",
       "      <td>195.84</td>\n",
       "      <td>3</td>\n",
       "    </tr>\n",
       "    <tr>\n",
       "      <th>...</th>\n",
       "      <td>...</td>\n",
       "      <td>...</td>\n",
       "      <td>...</td>\n",
       "      <td>...</td>\n",
       "      <td>...</td>\n",
       "    </tr>\n",
       "    <tr>\n",
       "      <th>3655</th>\n",
       "      <td>0</td>\n",
       "      <td>486.79</td>\n",
       "      <td>0</td>\n",
       "      <td>486.79</td>\n",
       "      <td>4</td>\n",
       "    </tr>\n",
       "    <tr>\n",
       "      <th>3656</th>\n",
       "      <td>6</td>\n",
       "      <td>212.87</td>\n",
       "      <td>15</td>\n",
       "      <td>180.94</td>\n",
       "      <td>0</td>\n",
       "    </tr>\n",
       "    <tr>\n",
       "      <th>3657</th>\n",
       "      <td>4</td>\n",
       "      <td>389.76</td>\n",
       "      <td>0</td>\n",
       "      <td>389.76</td>\n",
       "      <td>3</td>\n",
       "    </tr>\n",
       "    <tr>\n",
       "      <th>3658</th>\n",
       "      <td>3</td>\n",
       "      <td>447.66</td>\n",
       "      <td>30</td>\n",
       "      <td>313.36</td>\n",
       "      <td>4</td>\n",
       "    </tr>\n",
       "    <tr>\n",
       "      <th>3659</th>\n",
       "      <td>4</td>\n",
       "      <td>235.77</td>\n",
       "      <td>30</td>\n",
       "      <td>165.04</td>\n",
       "      <td>4</td>\n",
       "    </tr>\n",
       "  </tbody>\n",
       "</table>\n",
       "<p>3660 rows × 5 columns</p>\n",
       "</div>"
      ],
      "text/plain": [
       "      Category   Price  Discount  Final_Price  Payment_Method\n",
       "0            5   36.53        15        31.05               3\n",
       "1            2  232.79        20       186.23               3\n",
       "2            5  317.02        25       237.76               1\n",
       "3            6  173.19        25       129.89               4\n",
       "4            0  244.80        20       195.84               3\n",
       "...        ...     ...       ...          ...             ...\n",
       "3655         0  486.79         0       486.79               4\n",
       "3656         6  212.87        15       180.94               0\n",
       "3657         4  389.76         0       389.76               3\n",
       "3658         3  447.66        30       313.36               4\n",
       "3659         4  235.77        30       165.04               4\n",
       "\n",
       "[3660 rows x 5 columns]"
      ]
     },
     "execution_count": 2,
     "metadata": {},
     "output_type": "execute_result"
    }
   ],
   "source": [
    "df = pd.read_excel(\"Ecommerce_Cleaned_Data.xlsx\")\n",
    "df"
   ]
  },
  {
   "cell_type": "markdown",
   "id": "c05f9688-23b8-4427-b661-4b6fbde29325",
   "metadata": {},
   "source": [
    "**Data Modelling**"
   ]
  },
  {
   "cell_type": "code",
   "execution_count": 3,
   "id": "59f34200-8b28-4455-97bc-8d47f9339d30",
   "metadata": {},
   "outputs": [],
   "source": [
    "X = df.drop(columns='Discount')\n",
    "y = df['Discount']"
   ]
  },
  {
   "cell_type": "markdown",
   "id": "ac6dcd8f-a4ac-4f42-ab3d-1966bd4c75c8",
   "metadata": {},
   "source": [
    "**Train-Test Split**"
   ]
  },
  {
   "cell_type": "code",
   "execution_count": 4,
   "id": "a5c738e4-da54-4aa3-a2f5-2090c67ee62c",
   "metadata": {},
   "outputs": [],
   "source": [
    "from sklearn.model_selection import train_test_split\n",
    "X_train, X_test, y_train, y_test = train_test_split(X, y, train_size=0.8, random_state=10 )"
   ]
  },
  {
   "cell_type": "markdown",
   "id": "a6fc023b-c273-47d9-97cd-971718e0c874",
   "metadata": {},
   "source": [
    "**Modelling (Non-Linear Regression)**"
   ]
  },
  {
   "cell_type": "code",
   "execution_count": 6,
   "id": "6b8f9e63-990e-4215-8250-acc2a8e62104",
   "metadata": {},
   "outputs": [],
   "source": [
    "from sklearn.preprocessing import PolynomialFeatures\n",
    "import pandas as pd\n",
    "\n",
    "polynomial_converter = PolynomialFeatures(degree=2, include_bias=False)\n",
    "X_train = pd.DataFrame(polynomial_converter.fit_transform(X_train))\n",
    "X_test = pd.DataFrame(polynomial_converter.transform(X_test))\n"
   ]
  },
  {
   "cell_type": "code",
   "execution_count": 7,
   "id": "477ea4b8-d94e-4b20-9eb2-02250a0ee1f4",
   "metadata": {},
   "outputs": [
    {
     "name": "stdout",
     "output_type": "stream",
     "text": [
      "Intercept: 19.663480251639626\n",
      "Coefficients: [-6.70529714e-02  6.43084200e-01 -7.95227117e-01 -4.54529227e-01\n",
      "  1.30989593e-02 -4.07423920e-04  1.65182637e-04  4.91940278e-02\n",
      " -1.03884901e-03  1.25210885e-03 -2.91122909e-04  3.89514018e-05\n",
      "  9.13389077e-04  2.85026619e-02]\n"
     ]
    }
   ],
   "source": [
    "from sklearn.linear_model import LinearRegression\n",
    "\n",
    "# Save the model\n",
    "model = LinearRegression()\n",
    "\n",
    "# Fit the model\n",
    "model.fit(X_train, y_train)\n",
    "\n",
    "# Print Intercept and Coefficients\n",
    "print(\"Intercept:\", model.intercept_)\n",
    "print(\"Coefficients:\", model.coef_)"
   ]
  },
  {
   "cell_type": "markdown",
   "id": "47ed21fe-4383-4b19-8b06-0243e333f2b1",
   "metadata": {},
   "source": [
    "**Prediction**"
   ]
  },
  {
   "cell_type": "code",
   "execution_count": 8,
   "id": "6877873b-621c-47e6-ac66-1a3d39efe392",
   "metadata": {},
   "outputs": [],
   "source": [
    "# prediction on train data\n",
    "train_pred = model.predict(X_train)\n",
    "\n",
    "# prediction on test data\n",
    "test_pred = model.predict(X_test)"
   ]
  },
  {
   "cell_type": "markdown",
   "id": "cb4e3518-6e7f-4378-82c1-f8ddce955f7e",
   "metadata": {},
   "source": [
    "**Evaluation**"
   ]
  },
  {
   "cell_type": "code",
   "execution_count": 9,
   "id": "ef39eb0d-e74d-466a-b540-b4437b91eb31",
   "metadata": {},
   "outputs": [
    {
     "name": "stdout",
     "output_type": "stream",
     "text": [
      "Train R2: 0.9013776693185755\n",
      "Test R2: 0.9077828061760278\n",
      "Cross Validation Score: 0.899901209590834\n"
     ]
    }
   ],
   "source": [
    "# Train R2\n",
    "print(\"Train R2:\", model.score(X_train, y_train))\n",
    "\n",
    "# Test R2\n",
    "print(\"Test R2:\", model.score(X_test, y_test))\n",
    "\n",
    "#CV Score\n",
    "from sklearn.model_selection import cross_val_score\n",
    "print(\"Cross Validation Score:\", cross_val_score(model, X_train, y_train, cv=5).mean())"
   ]
  },
  {
   "cell_type": "markdown",
   "id": "a4a0af1c-8be5-44b9-a684-06ee80d54f71",
   "metadata": {},
   "source": [
    "**Hyperparameter Tuning**"
   ]
  },
  {
   "cell_type": "code",
   "execution_count": 17,
   "id": "060c29bd-f961-42c4-a7ea-8501626c1e00",
   "metadata": {},
   "outputs": [],
   "source": [
    "train_r2 = []\n",
    "test_r2 = []\n",
    "\n",
    "for i in range(1, 10):\n",
    "    from sklearn.preprocessing import PolynomialFeatures\n",
    "    polynomial_converter = PolynomialFeatures(degree=i, include_bias=False)\n",
    "    X_train_poly = pd.DataFrame(polynomial_converter.fit_transform(X))\n",
    "   \n",
    "\n",
    "    from sklearn.model_selection import train_test_split\n",
    "    X_train, X_test, y_train, y_test = train_test_split(X_train_poly, y, test_size=0.2, random_state=10)\n",
    "\n",
    "    from sklearn.linear_model import LinearRegression\n",
    "    model = LinearRegression()\n",
    "    model.fit(X_train, y_train)\n",
    "\n",
    "    train_pred = model.predict(X_train)\n",
    "    test_pred = model.predict(X_test)\n",
    "\n",
    "    train_r2.append(model.score(X_train, y_train))\n",
    "    test_r2.append(model.score(X_test, y_test))"
   ]
  },
  {
   "cell_type": "code",
   "execution_count": 18,
   "id": "359e093b-4a1c-4ea0-b24a-f3df763cabe9",
   "metadata": {},
   "outputs": [
    {
     "data": {
      "text/plain": [
       "[0.7631505249434279,\n",
       " 0.9013776693185755,\n",
       " 0.9497170571385872,\n",
       " 0.974022578877891,\n",
       " 0.9853386737607939,\n",
       " 0.9380500105913366,\n",
       " 0.8364842657351766,\n",
       " 0.5942925880035542,\n",
       " 0.6875673522302659]"
      ]
     },
     "execution_count": 18,
     "metadata": {},
     "output_type": "execute_result"
    }
   ],
   "source": [
    "train_r2"
   ]
  },
  {
   "cell_type": "code",
   "execution_count": 19,
   "id": "b7edd447-f7ce-4c44-8cdf-014e3e74924e",
   "metadata": {},
   "outputs": [
    {
     "data": {
      "text/plain": [
       "[0.7643534445694036,\n",
       " 0.9077828061760278,\n",
       " 0.9538135853782796,\n",
       " 0.9772399023888922,\n",
       " 0.9853890422236335,\n",
       " 0.9338753274315209,\n",
       " 0.8465196058899829,\n",
       " 0.45830356888317614,\n",
       " 0.6145350750701217]"
      ]
     },
     "execution_count": 19,
     "metadata": {},
     "output_type": "execute_result"
    }
   ],
   "source": [
    "test_r2"
   ]
  },
  {
   "cell_type": "markdown",
   "id": "5ee4ec79-712b-475b-ab09-b22b0a6831a9",
   "metadata": {},
   "source": [
    "* We can see degree 5 gives the highest accuracy for Train and Test R2(R-square)"
   ]
  },
  {
   "cell_type": "markdown",
   "id": "b79b400c-2e57-4569-8e9e-ff75415ba0e6",
   "metadata": {},
   "source": [
    "**Rebuilding the Model with best parameters**"
   ]
  },
  {
   "cell_type": "code",
   "execution_count": 24,
   "id": "cb929d2e-8a5d-429f-9ab4-48fc8b65a42d",
   "metadata": {},
   "outputs": [
    {
     "name": "stdout",
     "output_type": "stream",
     "text": [
      "Train R2: 0.9853386737607939\n",
      "Test R2: 0.9853890422236335\n",
      "Cross Validation Score: 0.9840185971470836\n"
     ]
    }
   ],
   "source": [
    "# preprocessing\n",
    "final_poly_converter = PolynomialFeatures(degree=5, include_bias=False)\n",
    "X_poly = final_poly_converter.fit_transform(X)\n",
    "\n",
    "# train-test-split\n",
    "X_train, X_test, y_train, y_test = train_test_split(X_poly, y, test_size=0.2, random_state=10)\n",
    "\n",
    "# build the final model\n",
    "final_model = LinearRegression()\n",
    "final_model.fit(X_train, y_train)\n",
    "\n",
    "# prediction\n",
    "train_pred = final_model.predict(X_train)\n",
    "test_pred = final_model.predict(X_test)\n",
    "\n",
    "# evaluation\n",
    "print(\"Train R2:\", final_model.score(X_train, y_train))  # Train R2\n",
    "print(\"Test R2:\", final_model.score(X_test, y_test))    # Test R2\n",
    "\n",
    "#CV Score\n",
    "from sklearn.model_selection import cross_val_score\n",
    "print(\"Cross Validation Score:\", cross_val_score(model, X_train, y_train, cv=5).mean())"
   ]
  },
  {
   "cell_type": "markdown",
   "id": "b3a47458-064c-4af0-b1cd-143c28b7be14",
   "metadata": {},
   "source": [
    "**Prediction on New Data**"
   ]
  },
  {
   "cell_type": "code",
   "execution_count": 25,
   "id": "bc07ab41-7eae-4dc6-a0cc-24bba2d6a876",
   "metadata": {},
   "outputs": [
    {
     "data": {
      "text/html": [
       "<div>\n",
       "<style scoped>\n",
       "    .dataframe tbody tr th:only-of-type {\n",
       "        vertical-align: middle;\n",
       "    }\n",
       "\n",
       "    .dataframe tbody tr th {\n",
       "        vertical-align: top;\n",
       "    }\n",
       "\n",
       "    .dataframe thead th {\n",
       "        text-align: right;\n",
       "    }\n",
       "</style>\n",
       "<table border=\"1\" class=\"dataframe\">\n",
       "  <thead>\n",
       "    <tr style=\"text-align: right;\">\n",
       "      <th></th>\n",
       "      <th>Category</th>\n",
       "      <th>Price</th>\n",
       "      <th>Final_Price</th>\n",
       "      <th>Payment_Method</th>\n",
       "    </tr>\n",
       "  </thead>\n",
       "  <tbody>\n",
       "    <tr>\n",
       "      <th>0</th>\n",
       "      <td>5</td>\n",
       "      <td>36.50</td>\n",
       "      <td>35.20</td>\n",
       "      <td>0</td>\n",
       "    </tr>\n",
       "    <tr>\n",
       "      <th>1</th>\n",
       "      <td>1</td>\n",
       "      <td>365.90</td>\n",
       "      <td>228.60</td>\n",
       "      <td>2</td>\n",
       "    </tr>\n",
       "    <tr>\n",
       "      <th>2</th>\n",
       "      <td>2</td>\n",
       "      <td>109.26</td>\n",
       "      <td>89.50</td>\n",
       "      <td>1</td>\n",
       "    </tr>\n",
       "    <tr>\n",
       "      <th>3</th>\n",
       "      <td>3</td>\n",
       "      <td>890.56</td>\n",
       "      <td>459.23</td>\n",
       "      <td>4</td>\n",
       "    </tr>\n",
       "  </tbody>\n",
       "</table>\n",
       "</div>"
      ],
      "text/plain": [
       "   Category   Price  Final_Price  Payment_Method\n",
       "0         5   36.50        35.20               0\n",
       "1         1  365.90       228.60               2\n",
       "2         2  109.26        89.50               1\n",
       "3         3  890.56       459.23               4"
      ]
     },
     "execution_count": 25,
     "metadata": {},
     "output_type": "execute_result"
    }
   ],
   "source": [
    "input_data = pd.DataFrame( {'Category':[5,1,2,3], 'Price':[36.50, 365.90, 109.26, 890.56 ], 'Final_Price': [35.20, 228.6, 89.50, 459.23 ], 'Payment_Method': [0,2,1,4] } )\n",
    "input_data"
   ]
  },
  {
   "cell_type": "code",
   "execution_count": 26,
   "id": "436c7607-c223-48ad-a71f-6299935e2a46",
   "metadata": {},
   "outputs": [
    {
     "data": {
      "text/plain": [
       "array([4.78542255e+00, 3.86066476e+01, 1.83685569e+01, 6.45166885e+03])"
      ]
     },
     "execution_count": 26,
     "metadata": {},
     "output_type": "execute_result"
    }
   ],
   "source": [
    "# preprocessing\n",
    "transformed_data = final_poly_converter.transform(input_data)\n",
    "\n",
    "# predict\n",
    "final_model.predict(transformed_data)"
   ]
  },
  {
   "cell_type": "code",
   "execution_count": null,
   "id": "4e56f693-3658-43f2-9b77-2a026d1174dc",
   "metadata": {},
   "outputs": [],
   "source": []
  }
 ],
 "metadata": {
  "kernelspec": {
   "display_name": "Python 3 (ipykernel)",
   "language": "python",
   "name": "python3"
  },
  "language_info": {
   "codemirror_mode": {
    "name": "ipython",
    "version": 3
   },
   "file_extension": ".py",
   "mimetype": "text/x-python",
   "name": "python",
   "nbconvert_exporter": "python",
   "pygments_lexer": "ipython3",
   "version": "3.12.7"
  }
 },
 "nbformat": 4,
 "nbformat_minor": 5
}
