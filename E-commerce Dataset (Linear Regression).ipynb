{
 "cells": [
  {
   "cell_type": "code",
   "execution_count": 1,
   "id": "3305de2a-d031-4fb5-a3bb-99506b91441b",
   "metadata": {},
   "outputs": [],
   "source": [
    "import numpy as np\n",
    "import pandas as pd\n",
    "import matplotlib.pyplot as plt\n",
    "import seaborn as sns\n",
    "sns.set(style=\"whitegrid\")\n",
    "\n",
    "import warnings                    \n",
    "warnings.filterwarnings('ignore')"
   ]
  },
  {
   "cell_type": "code",
   "execution_count": 2,
   "id": "705a789a-8a4c-47ef-ac63-da29b88477fb",
   "metadata": {},
   "outputs": [
    {
     "data": {
      "text/html": [
       "<div>\n",
       "<style scoped>\n",
       "    .dataframe tbody tr th:only-of-type {\n",
       "        vertical-align: middle;\n",
       "    }\n",
       "\n",
       "    .dataframe tbody tr th {\n",
       "        vertical-align: top;\n",
       "    }\n",
       "\n",
       "    .dataframe thead th {\n",
       "        text-align: right;\n",
       "    }\n",
       "</style>\n",
       "<table border=\"1\" class=\"dataframe\">\n",
       "  <thead>\n",
       "    <tr style=\"text-align: right;\">\n",
       "      <th></th>\n",
       "      <th>Category</th>\n",
       "      <th>Price</th>\n",
       "      <th>Discount</th>\n",
       "      <th>Final_Price</th>\n",
       "      <th>Payment_Method</th>\n",
       "    </tr>\n",
       "  </thead>\n",
       "  <tbody>\n",
       "    <tr>\n",
       "      <th>0</th>\n",
       "      <td>5</td>\n",
       "      <td>36.53</td>\n",
       "      <td>15</td>\n",
       "      <td>31.05</td>\n",
       "      <td>3</td>\n",
       "    </tr>\n",
       "    <tr>\n",
       "      <th>1</th>\n",
       "      <td>2</td>\n",
       "      <td>232.79</td>\n",
       "      <td>20</td>\n",
       "      <td>186.23</td>\n",
       "      <td>3</td>\n",
       "    </tr>\n",
       "    <tr>\n",
       "      <th>2</th>\n",
       "      <td>5</td>\n",
       "      <td>317.02</td>\n",
       "      <td>25</td>\n",
       "      <td>237.76</td>\n",
       "      <td>1</td>\n",
       "    </tr>\n",
       "    <tr>\n",
       "      <th>3</th>\n",
       "      <td>6</td>\n",
       "      <td>173.19</td>\n",
       "      <td>25</td>\n",
       "      <td>129.89</td>\n",
       "      <td>4</td>\n",
       "    </tr>\n",
       "    <tr>\n",
       "      <th>4</th>\n",
       "      <td>0</td>\n",
       "      <td>244.80</td>\n",
       "      <td>20</td>\n",
       "      <td>195.84</td>\n",
       "      <td>3</td>\n",
       "    </tr>\n",
       "    <tr>\n",
       "      <th>...</th>\n",
       "      <td>...</td>\n",
       "      <td>...</td>\n",
       "      <td>...</td>\n",
       "      <td>...</td>\n",
       "      <td>...</td>\n",
       "    </tr>\n",
       "    <tr>\n",
       "      <th>3655</th>\n",
       "      <td>0</td>\n",
       "      <td>486.79</td>\n",
       "      <td>0</td>\n",
       "      <td>486.79</td>\n",
       "      <td>4</td>\n",
       "    </tr>\n",
       "    <tr>\n",
       "      <th>3656</th>\n",
       "      <td>6</td>\n",
       "      <td>212.87</td>\n",
       "      <td>15</td>\n",
       "      <td>180.94</td>\n",
       "      <td>0</td>\n",
       "    </tr>\n",
       "    <tr>\n",
       "      <th>3657</th>\n",
       "      <td>4</td>\n",
       "      <td>389.76</td>\n",
       "      <td>0</td>\n",
       "      <td>389.76</td>\n",
       "      <td>3</td>\n",
       "    </tr>\n",
       "    <tr>\n",
       "      <th>3658</th>\n",
       "      <td>3</td>\n",
       "      <td>447.66</td>\n",
       "      <td>30</td>\n",
       "      <td>313.36</td>\n",
       "      <td>4</td>\n",
       "    </tr>\n",
       "    <tr>\n",
       "      <th>3659</th>\n",
       "      <td>4</td>\n",
       "      <td>235.77</td>\n",
       "      <td>30</td>\n",
       "      <td>165.04</td>\n",
       "      <td>4</td>\n",
       "    </tr>\n",
       "  </tbody>\n",
       "</table>\n",
       "<p>3660 rows × 5 columns</p>\n",
       "</div>"
      ],
      "text/plain": [
       "      Category   Price  Discount  Final_Price  Payment_Method\n",
       "0            5   36.53        15        31.05               3\n",
       "1            2  232.79        20       186.23               3\n",
       "2            5  317.02        25       237.76               1\n",
       "3            6  173.19        25       129.89               4\n",
       "4            0  244.80        20       195.84               3\n",
       "...        ...     ...       ...          ...             ...\n",
       "3655         0  486.79         0       486.79               4\n",
       "3656         6  212.87        15       180.94               0\n",
       "3657         4  389.76         0       389.76               3\n",
       "3658         3  447.66        30       313.36               4\n",
       "3659         4  235.77        30       165.04               4\n",
       "\n",
       "[3660 rows x 5 columns]"
      ]
     },
     "execution_count": 2,
     "metadata": {},
     "output_type": "execute_result"
    }
   ],
   "source": [
    "df = pd.read_excel(\"Ecommerce_Cleaned_Data.xlsx\")\n",
    "df"
   ]
  },
  {
   "cell_type": "code",
   "execution_count": 4,
   "id": "88ad39e2-7380-488c-a5c5-a8e0deb9a694",
   "metadata": {},
   "outputs": [
    {
     "data": {
      "text/plain": [
       "['Category', 'Price', 'Discount', 'Final_Price', 'Payment_Method']"
      ]
     },
     "execution_count": 4,
     "metadata": {},
     "output_type": "execute_result"
    }
   ],
   "source": [
    "df.columns.tolist()"
   ]
  },
  {
   "cell_type": "markdown",
   "id": "6a8bafb0-8a36-495b-b42c-6003a5385e89",
   "metadata": {},
   "source": [
    "**Data Modelling**"
   ]
  },
  {
   "cell_type": "code",
   "execution_count": 6,
   "id": "640fefe9-1a89-4280-9ec5-48883704f418",
   "metadata": {},
   "outputs": [],
   "source": [
    "X = df.drop(columns='Discount')\n",
    "y = df['Discount']"
   ]
  },
  {
   "cell_type": "markdown",
   "id": "18a2778b-278c-4281-a5de-bfd2988e1496",
   "metadata": {},
   "source": [
    "**Train-Test Split**"
   ]
  },
  {
   "cell_type": "code",
   "execution_count": 14,
   "id": "5ebcbb79-3e23-4f63-af5a-fef297ab68d4",
   "metadata": {},
   "outputs": [],
   "source": [
    "from sklearn.model_selection import train_test_split\n",
    "X_train, X_test, y_train, y_test = train_test_split(X, y, train_size=0.8, random_state=10 )"
   ]
  },
  {
   "cell_type": "markdown",
   "id": "e4b7e2cd-042c-4fe6-b09a-e7865a0d98c9",
   "metadata": {},
   "source": [
    "**Modelling(Linear Regression)**"
   ]
  },
  {
   "cell_type": "code",
   "execution_count": 15,
   "id": "3a18c3a4-6bcf-471b-b6e7-7382dc76501d",
   "metadata": {},
   "outputs": [
    {
     "name": "stdout",
     "output_type": "stream",
     "text": [
      "Intercept: 18.967670723780678\n",
      "Coefficients: [ 0.02215396  0.23852548 -0.2951763   0.03279585]\n"
     ]
    }
   ],
   "source": [
    "from sklearn.linear_model import LinearRegression\n",
    "\n",
    "# Save the model\n",
    "model = LinearRegression()\n",
    "\n",
    "# Fit the model\n",
    "model.fit(X_train, y_train)\n",
    "\n",
    "# Print Intercept and Coefficients\n",
    "print(\"Intercept:\", model.intercept_)\n",
    "print(\"Coefficients:\", model.coef_)"
   ]
  },
  {
   "cell_type": "markdown",
   "id": "fe0a530b-e74d-4814-9d70-ee66818a124f",
   "metadata": {},
   "source": [
    "**Prediction**"
   ]
  },
  {
   "cell_type": "code",
   "execution_count": 16,
   "id": "ceeab952-8569-416b-b3ad-d792424266a3",
   "metadata": {},
   "outputs": [],
   "source": [
    "# prediction on train data\n",
    "y_pred_train = model.predict(X_train)\n",
    "\n",
    "# prediction on test data\n",
    "y_pred_test = model.predict(X_test)"
   ]
  },
  {
   "cell_type": "markdown",
   "id": "d65f8496-1db2-4a36-86b3-35df5a3d9791",
   "metadata": {},
   "source": [
    "**Evaluation**"
   ]
  },
  {
   "cell_type": "code",
   "execution_count": 17,
   "id": "4ec95dc3-46d6-4324-936f-fbfadc40e899",
   "metadata": {},
   "outputs": [
    {
     "name": "stdout",
     "output_type": "stream",
     "text": [
      "Train R2: 0.7631505249434279\n",
      "Test R2: 0.7643534445694037\n",
      "Cross Validation Score: 0.7619766096662193\n"
     ]
    }
   ],
   "source": [
    "# Train R2\n",
    "print(\"Train R2:\", model.score(X_train, y_train))\n",
    "\n",
    "# Test R2\n",
    "print(\"Test R2:\", model.score(X_test, y_test))\n",
    "\n",
    "#CV Score\n",
    "from sklearn.model_selection import cross_val_score\n",
    "print(\"Cross Validation Score:\", cross_val_score(model, X_train, y_train, cv=5).mean())"
   ]
  },
  {
   "cell_type": "markdown",
   "id": "91093f4d-0c91-45ec-bfdf-e83f8ca6b59a",
   "metadata": {},
   "source": [
    "**Variables Significance**"
   ]
  },
  {
   "cell_type": "code",
   "execution_count": 18,
   "id": "ea445fb5-c15c-4c57-ba23-cf2c83e26bc5",
   "metadata": {},
   "outputs": [
    {
     "data": {
      "text/html": [
       "<table class=\"simpletable\">\n",
       "<caption>OLS Regression Results</caption>\n",
       "<tr>\n",
       "  <th>Dep. Variable:</th>            <td>y</td>        <th>  R-squared:         </th> <td>   0.763</td> \n",
       "</tr>\n",
       "<tr>\n",
       "  <th>Model:</th>                   <td>OLS</td>       <th>  Adj. R-squared:    </th> <td>   0.763</td> \n",
       "</tr>\n",
       "<tr>\n",
       "  <th>Method:</th>             <td>Least Squares</td>  <th>  F-statistic:       </th> <td>   2950.</td> \n",
       "</tr>\n",
       "<tr>\n",
       "  <th>Date:</th>             <td>Sat, 19 Jul 2025</td> <th>  Prob (F-statistic):</th>  <td>  0.00</td>  \n",
       "</tr>\n",
       "<tr>\n",
       "  <th>Time:</th>                 <td>08:40:14</td>     <th>  Log-Likelihood:    </th> <td> -12400.</td> \n",
       "</tr>\n",
       "<tr>\n",
       "  <th>No. Observations:</th>      <td>  3660</td>      <th>  AIC:               </th> <td>2.481e+04</td>\n",
       "</tr>\n",
       "<tr>\n",
       "  <th>Df Residuals:</th>          <td>  3655</td>      <th>  BIC:               </th> <td>2.484e+04</td>\n",
       "</tr>\n",
       "<tr>\n",
       "  <th>Df Model:</th>              <td>     4</td>      <th>                     </th>     <td> </td>    \n",
       "</tr>\n",
       "<tr>\n",
       "  <th>Covariance Type:</th>      <td>nonrobust</td>    <th>                     </th>     <td> </td>    \n",
       "</tr>\n",
       "</table>\n",
       "<table class=\"simpletable\">\n",
       "<tr>\n",
       "      <td></td>         <th>coef</th>     <th>std err</th>      <th>t</th>      <th>P>|t|</th>  <th>[0.025</th>    <th>0.975]</th>  \n",
       "</tr>\n",
       "<tr>\n",
       "  <th>Intercept</th> <td>   18.8023</td> <td>    0.350</td> <td>   53.777</td> <td> 0.000</td> <td>   18.117</td> <td>   19.488</td>\n",
       "</tr>\n",
       "<tr>\n",
       "  <th>X[0]</th>      <td>    0.0710</td> <td>    0.059</td> <td>    1.195</td> <td> 0.232</td> <td>   -0.046</td> <td>    0.188</td>\n",
       "</tr>\n",
       "<tr>\n",
       "  <th>X[1]</th>      <td>    0.2406</td> <td>    0.002</td> <td>  101.457</td> <td> 0.000</td> <td>    0.236</td> <td>    0.245</td>\n",
       "</tr>\n",
       "<tr>\n",
       "  <th>X[2]</th>      <td>   -0.2973</td> <td>    0.003</td> <td> -108.580</td> <td> 0.000</td> <td>   -0.303</td> <td>   -0.292</td>\n",
       "</tr>\n",
       "<tr>\n",
       "  <th>X[3]</th>      <td>    0.0161</td> <td>    0.084</td> <td>    0.192</td> <td> 0.848</td> <td>   -0.149</td> <td>    0.181</td>\n",
       "</tr>\n",
       "</table>\n",
       "<table class=\"simpletable\">\n",
       "<tr>\n",
       "  <th>Omnibus:</th>       <td>710.812</td> <th>  Durbin-Watson:     </th> <td>   1.931</td>\n",
       "</tr>\n",
       "<tr>\n",
       "  <th>Prob(Omnibus):</th> <td> 0.000</td>  <th>  Jarque-Bera (JB):  </th> <td>2335.854</td>\n",
       "</tr>\n",
       "<tr>\n",
       "  <th>Skew:</th>          <td> 0.970</td>  <th>  Prob(JB):          </th> <td>    0.00</td>\n",
       "</tr>\n",
       "<tr>\n",
       "  <th>Kurtosis:</th>      <td> 6.400</td>  <th>  Cond. No.          </th> <td>1.12e+03</td>\n",
       "</tr>\n",
       "</table><br/><br/>Notes:<br/>[1] Standard Errors assume that the covariance matrix of the errors is correctly specified.<br/>[2] The condition number is large, 1.12e+03. This might indicate that there are<br/>strong multicollinearity or other numerical problems."
      ],
      "text/latex": [
       "\\begin{center}\n",
       "\\begin{tabular}{lclc}\n",
       "\\toprule\n",
       "\\textbf{Dep. Variable:}    &        y         & \\textbf{  R-squared:         } &     0.763   \\\\\n",
       "\\textbf{Model:}            &       OLS        & \\textbf{  Adj. R-squared:    } &     0.763   \\\\\n",
       "\\textbf{Method:}           &  Least Squares   & \\textbf{  F-statistic:       } &     2950.   \\\\\n",
       "\\textbf{Date:}             & Sat, 19 Jul 2025 & \\textbf{  Prob (F-statistic):} &     0.00    \\\\\n",
       "\\textbf{Time:}             &     08:40:14     & \\textbf{  Log-Likelihood:    } &   -12400.   \\\\\n",
       "\\textbf{No. Observations:} &        3660      & \\textbf{  AIC:               } & 2.481e+04   \\\\\n",
       "\\textbf{Df Residuals:}     &        3655      & \\textbf{  BIC:               } & 2.484e+04   \\\\\n",
       "\\textbf{Df Model:}         &           4      & \\textbf{                     } &             \\\\\n",
       "\\textbf{Covariance Type:}  &    nonrobust     & \\textbf{                     } &             \\\\\n",
       "\\bottomrule\n",
       "\\end{tabular}\n",
       "\\begin{tabular}{lcccccc}\n",
       "                   & \\textbf{coef} & \\textbf{std err} & \\textbf{t} & \\textbf{P$> |$t$|$} & \\textbf{[0.025} & \\textbf{0.975]}  \\\\\n",
       "\\midrule\n",
       "\\textbf{Intercept} &      18.8023  &        0.350     &    53.777  &         0.000        &       18.117    &       19.488     \\\\\n",
       "\\textbf{X[0]}      &       0.0710  &        0.059     &     1.195  &         0.232        &       -0.046    &        0.188     \\\\\n",
       "\\textbf{X[1]}      &       0.2406  &        0.002     &   101.457  &         0.000        &        0.236    &        0.245     \\\\\n",
       "\\textbf{X[2]}      &      -0.2973  &        0.003     &  -108.580  &         0.000        &       -0.303    &       -0.292     \\\\\n",
       "\\textbf{X[3]}      &       0.0161  &        0.084     &     0.192  &         0.848        &       -0.149    &        0.181     \\\\\n",
       "\\bottomrule\n",
       "\\end{tabular}\n",
       "\\begin{tabular}{lclc}\n",
       "\\textbf{Omnibus:}       & 710.812 & \\textbf{  Durbin-Watson:     } &    1.931  \\\\\n",
       "\\textbf{Prob(Omnibus):} &   0.000 & \\textbf{  Jarque-Bera (JB):  } & 2335.854  \\\\\n",
       "\\textbf{Skew:}          &   0.970 & \\textbf{  Prob(JB):          } &     0.00  \\\\\n",
       "\\textbf{Kurtosis:}      &   6.400 & \\textbf{  Cond. No.          } & 1.12e+03  \\\\\n",
       "\\bottomrule\n",
       "\\end{tabular}\n",
       "%\\caption{OLS Regression Results}\n",
       "\\end{center}\n",
       "\n",
       "Notes: \\newline\n",
       " [1] Standard Errors assume that the covariance matrix of the errors is correctly specified. \\newline\n",
       " [2] The condition number is large, 1.12e+03. This might indicate that there are \\newline\n",
       " strong multicollinearity or other numerical problems."
      ],
      "text/plain": [
       "<class 'statsmodels.iolib.summary.Summary'>\n",
       "\"\"\"\n",
       "                            OLS Regression Results                            \n",
       "==============================================================================\n",
       "Dep. Variable:                      y   R-squared:                       0.763\n",
       "Model:                            OLS   Adj. R-squared:                  0.763\n",
       "Method:                 Least Squares   F-statistic:                     2950.\n",
       "Date:                Sat, 19 Jul 2025   Prob (F-statistic):               0.00\n",
       "Time:                        08:40:14   Log-Likelihood:                -12400.\n",
       "No. Observations:                3660   AIC:                         2.481e+04\n",
       "Df Residuals:                    3655   BIC:                         2.484e+04\n",
       "Df Model:                           4                                         \n",
       "Covariance Type:            nonrobust                                         \n",
       "==============================================================================\n",
       "                 coef    std err          t      P>|t|      [0.025      0.975]\n",
       "------------------------------------------------------------------------------\n",
       "Intercept     18.8023      0.350     53.777      0.000      18.117      19.488\n",
       "X[0]           0.0710      0.059      1.195      0.232      -0.046       0.188\n",
       "X[1]           0.2406      0.002    101.457      0.000       0.236       0.245\n",
       "X[2]          -0.2973      0.003   -108.580      0.000      -0.303      -0.292\n",
       "X[3]           0.0161      0.084      0.192      0.848      -0.149       0.181\n",
       "==============================================================================\n",
       "Omnibus:                      710.812   Durbin-Watson:                   1.931\n",
       "Prob(Omnibus):                  0.000   Jarque-Bera (JB):             2335.854\n",
       "Skew:                           0.970   Prob(JB):                         0.00\n",
       "Kurtosis:                       6.400   Cond. No.                     1.12e+03\n",
       "==============================================================================\n",
       "\n",
       "Notes:\n",
       "[1] Standard Errors assume that the covariance matrix of the errors is correctly specified.\n",
       "[2] The condition number is large, 1.12e+03. This might indicate that there are\n",
       "strong multicollinearity or other numerical problems.\n",
       "\"\"\""
      ]
     },
     "execution_count": 18,
     "metadata": {},
     "output_type": "execute_result"
    }
   ],
   "source": [
    "import statsmodels.formula.api as smf\n",
    "\n",
    "model1 = smf.ols(\"y ~ X\", data=df).fit()\n",
    "model1.summary()"
   ]
  },
  {
   "cell_type": "code",
   "execution_count": 19,
   "id": "42a38f9b-7637-4113-b141-d3ddffb93f7f",
   "metadata": {},
   "outputs": [
    {
     "data": {
      "text/html": [
       "<div>\n",
       "<style scoped>\n",
       "    .dataframe tbody tr th:only-of-type {\n",
       "        vertical-align: middle;\n",
       "    }\n",
       "\n",
       "    .dataframe tbody tr th {\n",
       "        vertical-align: top;\n",
       "    }\n",
       "\n",
       "    .dataframe thead th {\n",
       "        text-align: right;\n",
       "    }\n",
       "</style>\n",
       "<table border=\"1\" class=\"dataframe\">\n",
       "  <thead>\n",
       "    <tr style=\"text-align: right;\">\n",
       "      <th></th>\n",
       "      <th>Category</th>\n",
       "      <th>Price</th>\n",
       "      <th>Discount</th>\n",
       "      <th>Final_Price</th>\n",
       "      <th>Payment_Method</th>\n",
       "    </tr>\n",
       "  </thead>\n",
       "  <tbody>\n",
       "    <tr>\n",
       "      <th>0</th>\n",
       "      <td>5</td>\n",
       "      <td>36.53</td>\n",
       "      <td>15</td>\n",
       "      <td>31.05</td>\n",
       "      <td>3</td>\n",
       "    </tr>\n",
       "    <tr>\n",
       "      <th>1</th>\n",
       "      <td>2</td>\n",
       "      <td>232.79</td>\n",
       "      <td>20</td>\n",
       "      <td>186.23</td>\n",
       "      <td>3</td>\n",
       "    </tr>\n",
       "    <tr>\n",
       "      <th>2</th>\n",
       "      <td>5</td>\n",
       "      <td>317.02</td>\n",
       "      <td>25</td>\n",
       "      <td>237.76</td>\n",
       "      <td>1</td>\n",
       "    </tr>\n",
       "    <tr>\n",
       "      <th>3</th>\n",
       "      <td>6</td>\n",
       "      <td>173.19</td>\n",
       "      <td>25</td>\n",
       "      <td>129.89</td>\n",
       "      <td>4</td>\n",
       "    </tr>\n",
       "    <tr>\n",
       "      <th>4</th>\n",
       "      <td>0</td>\n",
       "      <td>244.80</td>\n",
       "      <td>20</td>\n",
       "      <td>195.84</td>\n",
       "      <td>3</td>\n",
       "    </tr>\n",
       "    <tr>\n",
       "      <th>...</th>\n",
       "      <td>...</td>\n",
       "      <td>...</td>\n",
       "      <td>...</td>\n",
       "      <td>...</td>\n",
       "      <td>...</td>\n",
       "    </tr>\n",
       "    <tr>\n",
       "      <th>3655</th>\n",
       "      <td>0</td>\n",
       "      <td>486.79</td>\n",
       "      <td>0</td>\n",
       "      <td>486.79</td>\n",
       "      <td>4</td>\n",
       "    </tr>\n",
       "    <tr>\n",
       "      <th>3656</th>\n",
       "      <td>6</td>\n",
       "      <td>212.87</td>\n",
       "      <td>15</td>\n",
       "      <td>180.94</td>\n",
       "      <td>0</td>\n",
       "    </tr>\n",
       "    <tr>\n",
       "      <th>3657</th>\n",
       "      <td>4</td>\n",
       "      <td>389.76</td>\n",
       "      <td>0</td>\n",
       "      <td>389.76</td>\n",
       "      <td>3</td>\n",
       "    </tr>\n",
       "    <tr>\n",
       "      <th>3658</th>\n",
       "      <td>3</td>\n",
       "      <td>447.66</td>\n",
       "      <td>30</td>\n",
       "      <td>313.36</td>\n",
       "      <td>4</td>\n",
       "    </tr>\n",
       "    <tr>\n",
       "      <th>3659</th>\n",
       "      <td>4</td>\n",
       "      <td>235.77</td>\n",
       "      <td>30</td>\n",
       "      <td>165.04</td>\n",
       "      <td>4</td>\n",
       "    </tr>\n",
       "  </tbody>\n",
       "</table>\n",
       "<p>3660 rows × 5 columns</p>\n",
       "</div>"
      ],
      "text/plain": [
       "      Category   Price  Discount  Final_Price  Payment_Method\n",
       "0            5   36.53        15        31.05               3\n",
       "1            2  232.79        20       186.23               3\n",
       "2            5  317.02        25       237.76               1\n",
       "3            6  173.19        25       129.89               4\n",
       "4            0  244.80        20       195.84               3\n",
       "...        ...     ...       ...          ...             ...\n",
       "3655         0  486.79         0       486.79               4\n",
       "3656         6  212.87        15       180.94               0\n",
       "3657         4  389.76         0       389.76               3\n",
       "3658         3  447.66        30       313.36               4\n",
       "3659         4  235.77        30       165.04               4\n",
       "\n",
       "[3660 rows x 5 columns]"
      ]
     },
     "execution_count": 19,
     "metadata": {},
     "output_type": "execute_result"
    }
   ],
   "source": [
    "df"
   ]
  },
  {
   "cell_type": "code",
   "execution_count": 20,
   "id": "4df144c8-889e-4ed9-bfc7-7a58779ff5a4",
   "metadata": {},
   "outputs": [
    {
     "data": {
      "text/html": [
       "<div>\n",
       "<style scoped>\n",
       "    .dataframe tbody tr th:only-of-type {\n",
       "        vertical-align: middle;\n",
       "    }\n",
       "\n",
       "    .dataframe tbody tr th {\n",
       "        vertical-align: top;\n",
       "    }\n",
       "\n",
       "    .dataframe thead th {\n",
       "        text-align: right;\n",
       "    }\n",
       "</style>\n",
       "<table border=\"1\" class=\"dataframe\">\n",
       "  <thead>\n",
       "    <tr style=\"text-align: right;\">\n",
       "      <th></th>\n",
       "      <th>Variables</th>\n",
       "      <th>VIF</th>\n",
       "    </tr>\n",
       "  </thead>\n",
       "  <tbody>\n",
       "    <tr>\n",
       "      <th>0</th>\n",
       "      <td>Category</td>\n",
       "      <td>1.000256</td>\n",
       "    </tr>\n",
       "    <tr>\n",
       "      <th>1</th>\n",
       "      <td>Price</td>\n",
       "      <td>8.037540</td>\n",
       "    </tr>\n",
       "    <tr>\n",
       "      <th>2</th>\n",
       "      <td>Final_Price</td>\n",
       "      <td>8.038386</td>\n",
       "    </tr>\n",
       "    <tr>\n",
       "      <th>3</th>\n",
       "      <td>Payment_Method</td>\n",
       "      <td>1.000700</td>\n",
       "    </tr>\n",
       "  </tbody>\n",
       "</table>\n",
       "</div>"
      ],
      "text/plain": [
       "        Variables       VIF\n",
       "0        Category  1.000256\n",
       "1           Price  8.037540\n",
       "2     Final_Price  8.038386\n",
       "3  Payment_Method  1.000700"
      ]
     },
     "execution_count": 20,
     "metadata": {},
     "output_type": "execute_result"
    }
   ],
   "source": [
    "# Calculating VIF values of independent variables\n",
    "\n",
    "rsq_Category = smf.ols('Category~Price+Final_Price+Payment_Method', data=df).fit().rsquared\n",
    "vif_Category = 1/(1-rsq_Category)\n",
    "\n",
    "rsq_Price = smf.ols('Price~Category+Final_Price+Payment_Method', data=df).fit().rsquared\n",
    "vif_Price = 1/(1-rsq_Price)\n",
    "\n",
    "rsq_Final_Price = smf.ols('Final_Price~Category+Price+Payment_Method', data=df).fit().rsquared\n",
    "vif_Final_Price = 1/(1-rsq_Final_Price)\n",
    "\n",
    "rsq_Payment_Method = smf.ols('Payment_Method~Category+Price+Final_Price', data=df).fit().rsquared\n",
    "vif_Payment_Method = 1/(1-rsq_Payment_Method)\n",
    "\n",
    "\n",
    "# Storing VIF values in a data frame\n",
    "\n",
    "d1 = {'Variables':['Category', 'Price','Final_Price','Payment_Method'], 'VIF': [vif_Category, vif_Price, vif_Final_Price,vif_Payment_Method]}\n",
    "vif_frame = pd.DataFrame(d1)\n",
    "vif_frame"
   ]
  },
  {
   "cell_type": "markdown",
   "id": "3f0cb4ea-f8f0-4e4f-8dc7-4b64798c981a",
   "metadata": {},
   "source": [
    "* We will have to drop 'Price' and 'Final_Price' variables. "
   ]
  },
  {
   "cell_type": "code",
   "execution_count": 33,
   "id": "a510e934-d7c5-476e-ad3b-d1530347ec37",
   "metadata": {},
   "outputs": [
    {
     "data": {
      "text/html": [
       "<div>\n",
       "<style scoped>\n",
       "    .dataframe tbody tr th:only-of-type {\n",
       "        vertical-align: middle;\n",
       "    }\n",
       "\n",
       "    .dataframe tbody tr th {\n",
       "        vertical-align: top;\n",
       "    }\n",
       "\n",
       "    .dataframe thead th {\n",
       "        text-align: right;\n",
       "    }\n",
       "</style>\n",
       "<table border=\"1\" class=\"dataframe\">\n",
       "  <thead>\n",
       "    <tr style=\"text-align: right;\">\n",
       "      <th></th>\n",
       "      <th>Category</th>\n",
       "      <th>Discount</th>\n",
       "      <th>Payment_Method</th>\n",
       "    </tr>\n",
       "  </thead>\n",
       "  <tbody>\n",
       "    <tr>\n",
       "      <th>0</th>\n",
       "      <td>5</td>\n",
       "      <td>15</td>\n",
       "      <td>3</td>\n",
       "    </tr>\n",
       "    <tr>\n",
       "      <th>1</th>\n",
       "      <td>2</td>\n",
       "      <td>20</td>\n",
       "      <td>3</td>\n",
       "    </tr>\n",
       "    <tr>\n",
       "      <th>2</th>\n",
       "      <td>5</td>\n",
       "      <td>25</td>\n",
       "      <td>1</td>\n",
       "    </tr>\n",
       "    <tr>\n",
       "      <th>3</th>\n",
       "      <td>6</td>\n",
       "      <td>25</td>\n",
       "      <td>4</td>\n",
       "    </tr>\n",
       "    <tr>\n",
       "      <th>4</th>\n",
       "      <td>0</td>\n",
       "      <td>20</td>\n",
       "      <td>3</td>\n",
       "    </tr>\n",
       "    <tr>\n",
       "      <th>...</th>\n",
       "      <td>...</td>\n",
       "      <td>...</td>\n",
       "      <td>...</td>\n",
       "    </tr>\n",
       "    <tr>\n",
       "      <th>3655</th>\n",
       "      <td>0</td>\n",
       "      <td>0</td>\n",
       "      <td>4</td>\n",
       "    </tr>\n",
       "    <tr>\n",
       "      <th>3656</th>\n",
       "      <td>6</td>\n",
       "      <td>15</td>\n",
       "      <td>0</td>\n",
       "    </tr>\n",
       "    <tr>\n",
       "      <th>3657</th>\n",
       "      <td>4</td>\n",
       "      <td>0</td>\n",
       "      <td>3</td>\n",
       "    </tr>\n",
       "    <tr>\n",
       "      <th>3658</th>\n",
       "      <td>3</td>\n",
       "      <td>30</td>\n",
       "      <td>4</td>\n",
       "    </tr>\n",
       "    <tr>\n",
       "      <th>3659</th>\n",
       "      <td>4</td>\n",
       "      <td>30</td>\n",
       "      <td>4</td>\n",
       "    </tr>\n",
       "  </tbody>\n",
       "</table>\n",
       "<p>3660 rows × 3 columns</p>\n",
       "</div>"
      ],
      "text/plain": [
       "      Category  Discount  Payment_Method\n",
       "0            5        15               3\n",
       "1            2        20               3\n",
       "2            5        25               1\n",
       "3            6        25               4\n",
       "4            0        20               3\n",
       "...        ...       ...             ...\n",
       "3655         0         0               4\n",
       "3656         6        15               0\n",
       "3657         4         0               3\n",
       "3658         3        30               4\n",
       "3659         4        30               4\n",
       "\n",
       "[3660 rows x 3 columns]"
      ]
     },
     "execution_count": 33,
     "metadata": {},
     "output_type": "execute_result"
    }
   ],
   "source": [
    "df1= df.drop(['Price', 'Final_Price'], axis=1)\n",
    "df1"
   ]
  },
  {
   "cell_type": "markdown",
   "id": "2f468705-55c1-462e-88f5-81ddbd4e52d5",
   "metadata": {},
   "source": [
    "### Final Model"
   ]
  },
  {
   "cell_type": "markdown",
   "id": "08916afe-de01-4665-b1c2-bfa6632cbdbf",
   "metadata": {},
   "source": [
    "**Train-Test Split**"
   ]
  },
  {
   "cell_type": "code",
   "execution_count": 34,
   "id": "d0c3bf96-4366-4378-a2a3-8c66a47954cf",
   "metadata": {},
   "outputs": [],
   "source": [
    "X = df1[['Category', 'Payment_Method']]\n",
    "y = df1['Discount']"
   ]
  },
  {
   "cell_type": "code",
   "execution_count": 35,
   "id": "53e0b60e-e907-45b4-839b-1711718a028a",
   "metadata": {},
   "outputs": [],
   "source": [
    "from sklearn.model_selection import train_test_split\n",
    "X_train, X_test, y_train, y_test = train_test_split(X, y, train_size=0.8, random_state=10 )"
   ]
  },
  {
   "cell_type": "markdown",
   "id": "bbb2d3b1-04f8-46e0-9d8c-c9e26d7e6d3c",
   "metadata": {},
   "source": [
    "**Modelling(Linear Regression)**"
   ]
  },
  {
   "cell_type": "code",
   "execution_count": 36,
   "id": "dae56bc0-967c-4116-bda6-b05e91192be1",
   "metadata": {},
   "outputs": [
    {
     "name": "stdout",
     "output_type": "stream",
     "text": [
      "Intercept: 18.607603969798426\n",
      "Coefficients: [-0.04761443  0.15613433]\n"
     ]
    }
   ],
   "source": [
    "from sklearn.linear_model import LinearRegression\n",
    "\n",
    "# Save the model\n",
    "model = LinearRegression()\n",
    "\n",
    "# Fit the model\n",
    "model.fit(X_train, y_train)\n",
    "\n",
    "# Print Intercept and Coefficients\n",
    "print(\"Intercept:\", model.intercept_)\n",
    "print(\"Coefficients:\", model.coef_)"
   ]
  },
  {
   "cell_type": "markdown",
   "id": "80987d93-3cdc-4ca0-9b15-007fa48445e6",
   "metadata": {},
   "source": [
    "**Prediction**"
   ]
  },
  {
   "cell_type": "code",
   "execution_count": 37,
   "id": "10b05ed9-894f-468e-9222-1228fecc1f0c",
   "metadata": {},
   "outputs": [],
   "source": [
    "# prediction on train data\n",
    "y_pred_train = model.predict(X_train)\n",
    "\n",
    "# prediction on test data\n",
    "y_pred_test = model.predict(X_test)"
   ]
  },
  {
   "cell_type": "markdown",
   "id": "e9aa2a64-7d94-43a2-a0e6-ed3e444d6cf7",
   "metadata": {},
   "source": [
    "**Evaluation**"
   ]
  },
  {
   "cell_type": "code",
   "execution_count": 38,
   "id": "f0f896ec-61d1-438d-a47d-36d8db811153",
   "metadata": {},
   "outputs": [
    {
     "name": "stdout",
     "output_type": "stream",
     "text": [
      "Train R2: 0.00026578791555276204\n",
      "Test R2: 0.0004844191835359224\n",
      "Cross Validation Score: -0.001542199242988529\n"
     ]
    }
   ],
   "source": [
    "# Train R2\n",
    "print(\"Train R2:\", model.score(X_train, y_train))\n",
    "\n",
    "# Test R2\n",
    "print(\"Test R2:\", model.score(X_test, y_test))\n",
    "\n",
    "#CV Score\n",
    "from sklearn.model_selection import cross_val_score\n",
    "print(\"Cross Validation Score:\", cross_val_score(model, X_train, y_train, cv=5).mean())"
   ]
  },
  {
   "cell_type": "markdown",
   "id": "14497786-65d3-488b-bb0a-cba48fd26e2b",
   "metadata": {},
   "source": [
    "* Dropping the variables leads to significant drop in accuracy, hence we will go with the original DataFrame and model. "
   ]
  },
  {
   "cell_type": "markdown",
   "id": "0e012c62-cedc-493e-a7f4-642b871277f3",
   "metadata": {},
   "source": [
    "* Train R2: 0.7631505249434279\n",
    "* Test R2: 0.7643534445694037\n",
    "* Cross Validation Score: 0.7619766096662193\n",
    "\n",
    "This can be considered a good model. "
   ]
  },
  {
   "cell_type": "code",
   "execution_count": null,
   "id": "5ca37d45-901d-4e9e-9fac-bc4918be9e75",
   "metadata": {},
   "outputs": [],
   "source": []
  }
 ],
 "metadata": {
  "kernelspec": {
   "display_name": "Python 3 (ipykernel)",
   "language": "python",
   "name": "python3"
  },
  "language_info": {
   "codemirror_mode": {
    "name": "ipython",
    "version": 3
   },
   "file_extension": ".py",
   "mimetype": "text/x-python",
   "name": "python",
   "nbconvert_exporter": "python",
   "pygments_lexer": "ipython3",
   "version": "3.12.7"
  }
 },
 "nbformat": 4,
 "nbformat_minor": 5
}
